{
  "cells": [
    {
      "cell_type": "markdown",
      "metadata": {
        "id": "view-in-github",
        "colab_type": "text"
      },
      "source": [
        "<a href=\"https://colab.research.google.com/github/vg11072001/natural-language-processing/blob/main/deep%20learning%20-%20RNN%2C%20LSTM%2C%20BERT%2C%20Transformer/Word_embedding_Techniques.ipynb\" target=\"_parent\"><img src=\"https://colab.research.google.com/assets/colab-badge.svg\" alt=\"Open In Colab\"/></a>"
      ]
    },
    {
      "cell_type": "markdown",
      "metadata": {
        "id": "eHNf7J680XF-"
      },
      "source": [
        "### Word Embedding Techniques using Embedding Layer in Keras"
      ]
    },
    {
      "cell_type": "code",
      "execution_count": 1,
      "metadata": {
        "id": "PEsK0_yl0XGB"
      },
      "outputs": [],
      "source": [
        "### Libraries USed Tensorflow> 2.0  and keras"
      ]
    },
    {
      "cell_type": "code",
      "execution_count": 2,
      "metadata": {
        "colab": {
          "base_uri": "https://localhost:8080/"
        },
        "id": "pslw1Ya90XGC",
        "outputId": "4bc96533-6eeb-488e-c9f9-778a9cf5b24e"
      },
      "outputs": [
        {
          "output_type": "stream",
          "name": "stdout",
          "text": [
            "Looking in indexes: https://pypi.org/simple, https://us-python.pkg.dev/colab-wheels/public/simple/\n",
            "Collecting tensorflow-gpu\n",
            "  Downloading tensorflow_gpu-2.11.0-cp38-cp38-manylinux_2_17_x86_64.manylinux2014_x86_64.whl (588.3 MB)\n",
            "\u001b[K     |████████████████████████████████| 588.3 MB 21 kB/s \n",
            "\u001b[?25hRequirement already satisfied: wrapt>=1.11.0 in /usr/local/lib/python3.8/dist-packages (from tensorflow-gpu) (1.14.1)\n",
            "Collecting keras<2.12,>=2.11.0\n",
            "  Downloading keras-2.11.0-py2.py3-none-any.whl (1.7 MB)\n",
            "\u001b[K     |████████████████████████████████| 1.7 MB 57.8 MB/s \n",
            "\u001b[?25hCollecting tensorflow-estimator<2.12,>=2.11.0\n",
            "  Downloading tensorflow_estimator-2.11.0-py2.py3-none-any.whl (439 kB)\n",
            "\u001b[K     |████████████████████████████████| 439 kB 76.0 MB/s \n",
            "\u001b[?25hRequirement already satisfied: termcolor>=1.1.0 in /usr/local/lib/python3.8/dist-packages (from tensorflow-gpu) (2.1.1)\n",
            "Requirement already satisfied: opt-einsum>=2.3.2 in /usr/local/lib/python3.8/dist-packages (from tensorflow-gpu) (3.3.0)\n",
            "Collecting flatbuffers>=2.0\n",
            "  Downloading flatbuffers-22.12.6-py2.py3-none-any.whl (26 kB)\n",
            "Requirement already satisfied: astunparse>=1.6.0 in /usr/local/lib/python3.8/dist-packages (from tensorflow-gpu) (1.6.3)\n",
            "Requirement already satisfied: six>=1.12.0 in /usr/local/lib/python3.8/dist-packages (from tensorflow-gpu) (1.15.0)\n",
            "Requirement already satisfied: protobuf<3.20,>=3.9.2 in /usr/local/lib/python3.8/dist-packages (from tensorflow-gpu) (3.19.6)\n",
            "Requirement already satisfied: typing-extensions>=3.6.6 in /usr/local/lib/python3.8/dist-packages (from tensorflow-gpu) (4.4.0)\n",
            "Collecting tensorboard<2.12,>=2.11\n",
            "  Downloading tensorboard-2.11.0-py3-none-any.whl (6.0 MB)\n",
            "\u001b[K     |████████████████████████████████| 6.0 MB 69.1 MB/s \n",
            "\u001b[?25hRequirement already satisfied: numpy>=1.20 in /usr/local/lib/python3.8/dist-packages (from tensorflow-gpu) (1.21.6)\n",
            "Requirement already satisfied: h5py>=2.9.0 in /usr/local/lib/python3.8/dist-packages (from tensorflow-gpu) (3.1.0)\n",
            "Requirement already satisfied: grpcio<2.0,>=1.24.3 in /usr/local/lib/python3.8/dist-packages (from tensorflow-gpu) (1.51.1)\n",
            "Requirement already satisfied: absl-py>=1.0.0 in /usr/local/lib/python3.8/dist-packages (from tensorflow-gpu) (1.3.0)\n",
            "Requirement already satisfied: packaging in /usr/local/lib/python3.8/dist-packages (from tensorflow-gpu) (21.3)\n",
            "Requirement already satisfied: google-pasta>=0.1.1 in /usr/local/lib/python3.8/dist-packages (from tensorflow-gpu) (0.2.0)\n",
            "Requirement already satisfied: gast<=0.4.0,>=0.2.1 in /usr/local/lib/python3.8/dist-packages (from tensorflow-gpu) (0.4.0)\n",
            "Requirement already satisfied: libclang>=13.0.0 in /usr/local/lib/python3.8/dist-packages (from tensorflow-gpu) (14.0.6)\n",
            "Requirement already satisfied: setuptools in /usr/local/lib/python3.8/dist-packages (from tensorflow-gpu) (57.4.0)\n",
            "Requirement already satisfied: tensorflow-io-gcs-filesystem>=0.23.1 in /usr/local/lib/python3.8/dist-packages (from tensorflow-gpu) (0.28.0)\n",
            "Requirement already satisfied: wheel<1.0,>=0.23.0 in /usr/local/lib/python3.8/dist-packages (from astunparse>=1.6.0->tensorflow-gpu) (0.38.4)\n",
            "Requirement already satisfied: google-auth-oauthlib<0.5,>=0.4.1 in /usr/local/lib/python3.8/dist-packages (from tensorboard<2.12,>=2.11->tensorflow-gpu) (0.4.6)\n",
            "Requirement already satisfied: google-auth<3,>=1.6.3 in /usr/local/lib/python3.8/dist-packages (from tensorboard<2.12,>=2.11->tensorflow-gpu) (2.15.0)\n",
            "Requirement already satisfied: tensorboard-data-server<0.7.0,>=0.6.0 in /usr/local/lib/python3.8/dist-packages (from tensorboard<2.12,>=2.11->tensorflow-gpu) (0.6.1)\n",
            "Requirement already satisfied: tensorboard-plugin-wit>=1.6.0 in /usr/local/lib/python3.8/dist-packages (from tensorboard<2.12,>=2.11->tensorflow-gpu) (1.8.1)\n",
            "Requirement already satisfied: requests<3,>=2.21.0 in /usr/local/lib/python3.8/dist-packages (from tensorboard<2.12,>=2.11->tensorflow-gpu) (2.23.0)\n",
            "Requirement already satisfied: markdown>=2.6.8 in /usr/local/lib/python3.8/dist-packages (from tensorboard<2.12,>=2.11->tensorflow-gpu) (3.4.1)\n",
            "Requirement already satisfied: werkzeug>=1.0.1 in /usr/local/lib/python3.8/dist-packages (from tensorboard<2.12,>=2.11->tensorflow-gpu) (1.0.1)\n",
            "Requirement already satisfied: cachetools<6.0,>=2.0.0 in /usr/local/lib/python3.8/dist-packages (from google-auth<3,>=1.6.3->tensorboard<2.12,>=2.11->tensorflow-gpu) (5.2.0)\n",
            "Requirement already satisfied: rsa<5,>=3.1.4 in /usr/local/lib/python3.8/dist-packages (from google-auth<3,>=1.6.3->tensorboard<2.12,>=2.11->tensorflow-gpu) (4.9)\n",
            "Requirement already satisfied: pyasn1-modules>=0.2.1 in /usr/local/lib/python3.8/dist-packages (from google-auth<3,>=1.6.3->tensorboard<2.12,>=2.11->tensorflow-gpu) (0.2.8)\n",
            "Requirement already satisfied: requests-oauthlib>=0.7.0 in /usr/local/lib/python3.8/dist-packages (from google-auth-oauthlib<0.5,>=0.4.1->tensorboard<2.12,>=2.11->tensorflow-gpu) (1.3.1)\n",
            "Requirement already satisfied: importlib-metadata>=4.4 in /usr/local/lib/python3.8/dist-packages (from markdown>=2.6.8->tensorboard<2.12,>=2.11->tensorflow-gpu) (5.1.0)\n",
            "Requirement already satisfied: zipp>=0.5 in /usr/local/lib/python3.8/dist-packages (from importlib-metadata>=4.4->markdown>=2.6.8->tensorboard<2.12,>=2.11->tensorflow-gpu) (3.11.0)\n",
            "Requirement already satisfied: pyasn1<0.5.0,>=0.4.6 in /usr/local/lib/python3.8/dist-packages (from pyasn1-modules>=0.2.1->google-auth<3,>=1.6.3->tensorboard<2.12,>=2.11->tensorflow-gpu) (0.4.8)\n",
            "Requirement already satisfied: certifi>=2017.4.17 in /usr/local/lib/python3.8/dist-packages (from requests<3,>=2.21.0->tensorboard<2.12,>=2.11->tensorflow-gpu) (2022.12.7)\n",
            "Requirement already satisfied: idna<3,>=2.5 in /usr/local/lib/python3.8/dist-packages (from requests<3,>=2.21.0->tensorboard<2.12,>=2.11->tensorflow-gpu) (2.10)\n",
            "Requirement already satisfied: chardet<4,>=3.0.2 in /usr/local/lib/python3.8/dist-packages (from requests<3,>=2.21.0->tensorboard<2.12,>=2.11->tensorflow-gpu) (3.0.4)\n",
            "Requirement already satisfied: urllib3!=1.25.0,!=1.25.1,<1.26,>=1.21.1 in /usr/local/lib/python3.8/dist-packages (from requests<3,>=2.21.0->tensorboard<2.12,>=2.11->tensorflow-gpu) (1.24.3)\n",
            "Requirement already satisfied: oauthlib>=3.0.0 in /usr/local/lib/python3.8/dist-packages (from requests-oauthlib>=0.7.0->google-auth-oauthlib<0.5,>=0.4.1->tensorboard<2.12,>=2.11->tensorflow-gpu) (3.2.2)\n",
            "Requirement already satisfied: pyparsing!=3.0.5,>=2.0.2 in /usr/local/lib/python3.8/dist-packages (from packaging->tensorflow-gpu) (3.0.9)\n",
            "Installing collected packages: tensorflow-estimator, tensorboard, keras, flatbuffers, tensorflow-gpu\n",
            "  Attempting uninstall: tensorflow-estimator\n",
            "    Found existing installation: tensorflow-estimator 2.9.0\n",
            "    Uninstalling tensorflow-estimator-2.9.0:\n",
            "      Successfully uninstalled tensorflow-estimator-2.9.0\n",
            "  Attempting uninstall: tensorboard\n",
            "    Found existing installation: tensorboard 2.9.1\n",
            "    Uninstalling tensorboard-2.9.1:\n",
            "      Successfully uninstalled tensorboard-2.9.1\n",
            "  Attempting uninstall: keras\n",
            "    Found existing installation: keras 2.9.0\n",
            "    Uninstalling keras-2.9.0:\n",
            "      Successfully uninstalled keras-2.9.0\n",
            "  Attempting uninstall: flatbuffers\n",
            "    Found existing installation: flatbuffers 1.12\n",
            "    Uninstalling flatbuffers-1.12:\n",
            "      Successfully uninstalled flatbuffers-1.12\n",
            "\u001b[31mERROR: pip's dependency resolver does not currently take into account all the packages that are installed. This behaviour is the source of the following dependency conflicts.\n",
            "tensorflow 2.9.2 requires flatbuffers<2,>=1.12, but you have flatbuffers 22.12.6 which is incompatible.\n",
            "tensorflow 2.9.2 requires keras<2.10.0,>=2.9.0rc0, but you have keras 2.11.0 which is incompatible.\n",
            "tensorflow 2.9.2 requires tensorboard<2.10,>=2.9, but you have tensorboard 2.11.0 which is incompatible.\n",
            "tensorflow 2.9.2 requires tensorflow-estimator<2.10.0,>=2.9.0rc0, but you have tensorflow-estimator 2.11.0 which is incompatible.\u001b[0m\n",
            "Successfully installed flatbuffers-22.12.6 keras-2.11.0 tensorboard-2.11.0 tensorflow-estimator-2.11.0 tensorflow-gpu-2.11.0\n"
          ]
        }
      ],
      "source": [
        "!pip install tensorflow-gpu"
      ]
    },
    {
      "cell_type": "code",
      "source": [
        "import tensorflow as tf\n",
        "print(tf.__version__)"
      ],
      "metadata": {
        "colab": {
          "base_uri": "https://localhost:8080/"
        },
        "id": "yZ5hceiMAX7n",
        "outputId": "b088fa35-3c0c-4136-e556-27bfd2d40e40"
      },
      "execution_count": 3,
      "outputs": [
        {
          "output_type": "stream",
          "name": "stdout",
          "text": [
            "2.11.0\n"
          ]
        }
      ]
    },
    {
      "cell_type": "code",
      "execution_count": 4,
      "metadata": {
        "id": "k4nKifUl0XGC"
      },
      "outputs": [],
      "source": [
        "##tensorflow >2.0\n",
        "from tensorflow.keras.preprocessing.text import one_hot"
      ]
    },
    {
      "cell_type": "code",
      "execution_count": 5,
      "metadata": {
        "id": "Fu9PuYeu0XGD"
      },
      "outputs": [],
      "source": [
        "### sentences\n",
        "sent=[  'the glass of milk',\n",
        "     'the glass of juice',\n",
        "     'the cup of tea',\n",
        "    'I am a good boy',\n",
        "     'I am a good developer',\n",
        "     'understand the meaning of words',\n",
        "     'your videos are good']"
      ]
    },
    {
      "cell_type": "code",
      "execution_count": 6,
      "metadata": {
        "colab": {
          "base_uri": "https://localhost:8080/"
        },
        "id": "x5d1D3_20XGD",
        "outputId": "d740ea93-f980-4bc9-9bfe-a1040b39962b"
      },
      "outputs": [
        {
          "output_type": "execute_result",
          "data": {
            "text/plain": [
              "['the glass of milk',\n",
              " 'the glass of juice',\n",
              " 'the cup of tea',\n",
              " 'I am a good boy',\n",
              " 'I am a good developer',\n",
              " 'understand the meaning of words',\n",
              " 'your videos are good']"
            ]
          },
          "metadata": {},
          "execution_count": 6
        }
      ],
      "source": [
        "sent"
      ]
    },
    {
      "cell_type": "code",
      "execution_count": 7,
      "metadata": {
        "id": "tjnXIn3B0XGE"
      },
      "outputs": [],
      "source": [
        "### Vocabulary size\n",
        "voc_size=500"
      ]
    },
    {
      "cell_type": "markdown",
      "metadata": {
        "id": "-vQOdeKk0XGE"
      },
      "source": [
        "#### One Hot Representation"
      ]
    },
    {
      "cell_type": "code",
      "execution_count": 8,
      "metadata": {
        "colab": {
          "base_uri": "https://localhost:8080/"
        },
        "id": "gojfZpAW0XGE",
        "outputId": "326694f3-e863-47db-b3b3-8a2b21fab1b7"
      },
      "outputs": [
        {
          "output_type": "stream",
          "name": "stdout",
          "text": [
            "[[431, 288, 466, 173], [431, 288, 466, 52], [431, 97, 466, 37], [396, 54, 271, 75, 176], [396, 54, 271, 75, 323], [446, 431, 262, 466, 480], [79, 266, 406, 75]]\n"
          ]
        }
      ],
      "source": [
        "onehot_repr=[one_hot(words,voc_size)for words in sent] \n",
        "print(onehot_repr)"
      ]
    },
    {
      "cell_type": "markdown",
      "metadata": {
        "id": "eYG267x40XGF"
      },
      "source": [
        "### Word Embedding Represntation"
      ]
    },
    {
      "cell_type": "code",
      "execution_count": 9,
      "metadata": {
        "id": "wpqPm0tb0XGF"
      },
      "outputs": [],
      "source": [
        "from tensorflow.keras.layers import Embedding\n",
        "from tensorflow.keras.preprocessing.sequence import pad_sequences\n",
        "from tensorflow.keras.models import Sequential"
      ]
    },
    {
      "cell_type": "code",
      "execution_count": 10,
      "metadata": {
        "id": "Rov3GTM00XGG"
      },
      "outputs": [],
      "source": [
        "import numpy as np"
      ]
    },
    {
      "cell_type": "code",
      "execution_count": 11,
      "metadata": {
        "colab": {
          "base_uri": "https://localhost:8080/"
        },
        "id": "8fQLPw6p0XGG",
        "outputId": "b21f0021-05ff-4197-8025-acd4416ae5ba"
      },
      "outputs": [
        {
          "output_type": "stream",
          "name": "stdout",
          "text": [
            "[[  0   0   0   0 431 288 466 173]\n",
            " [  0   0   0   0 431 288 466  52]\n",
            " [  0   0   0   0 431  97 466  37]\n",
            " [  0   0   0 396  54 271  75 176]\n",
            " [  0   0   0 396  54 271  75 323]\n",
            " [  0   0   0 446 431 262 466 480]\n",
            " [  0   0   0   0  79 266 406  75]]\n"
          ]
        }
      ],
      "source": [
        "## pre padding\n",
        "sent_length=8\n",
        "embedded_docs=pad_sequences(onehot_repr,padding='pre',maxlen=sent_length) #pre or post\n",
        "print(embedded_docs)"
      ]
    },
    {
      "cell_type": "code",
      "execution_count": 12,
      "metadata": {
        "id": "yjQqBYac0XGG"
      },
      "outputs": [],
      "source": [
        "## 10 feature dimesnions\n",
        "dim=10\n"
      ]
    },
    {
      "cell_type": "code",
      "execution_count": 13,
      "metadata": {
        "id": "ozC-TXrt0XGG"
      },
      "outputs": [],
      "source": [
        "model=Sequential()\n",
        "model.add(Embedding(voc_size,10,input_length=sent_length))\n",
        "model.compile('adam','mse')"
      ]
    },
    {
      "cell_type": "code",
      "execution_count": 14,
      "metadata": {
        "colab": {
          "base_uri": "https://localhost:8080/"
        },
        "id": "tMNvq-Ji0XGH",
        "outputId": "7b909fde-a323-4463-c7c0-d414360f59de"
      },
      "outputs": [
        {
          "output_type": "stream",
          "name": "stdout",
          "text": [
            "Model: \"sequential\"\n",
            "_________________________________________________________________\n",
            " Layer (type)                Output Shape              Param #   \n",
            "=================================================================\n",
            " embedding (Embedding)       (None, 8, 10)             5000      \n",
            "                                                                 \n",
            "=================================================================\n",
            "Total params: 5,000\n",
            "Trainable params: 5,000\n",
            "Non-trainable params: 0\n",
            "_________________________________________________________________\n"
          ]
        }
      ],
      "source": [
        "model.summary()"
      ]
    },
    {
      "cell_type": "code",
      "source": [
        "##'the glass of milk',\n",
        "embedded_docs[0]"
      ],
      "metadata": {
        "colab": {
          "base_uri": "https://localhost:8080/"
        },
        "id": "FC4Ess_FEcb3",
        "outputId": "c135316d-9b64-485a-80c4-44fc1c16f90a"
      },
      "execution_count": 15,
      "outputs": [
        {
          "output_type": "execute_result",
          "data": {
            "text/plain": [
              "array([  0,   0,   0,   0, 431, 288, 466, 173], dtype=int32)"
            ]
          },
          "metadata": {},
          "execution_count": 15
        }
      ]
    },
    {
      "cell_type": "code",
      "source": [
        "model.predict(embedded_docs[0])"
      ],
      "metadata": {
        "colab": {
          "base_uri": "https://localhost:8080/"
        },
        "id": "bRqEvMBYEZUS",
        "outputId": "d55f224b-d4ad-40bb-c67e-11206fff0d79"
      },
      "execution_count": 16,
      "outputs": [
        {
          "output_type": "stream",
          "name": "stderr",
          "text": [
            "WARNING:tensorflow:Model was constructed with shape (None, 8) for input KerasTensor(type_spec=TensorSpec(shape=(None, 8), dtype=tf.float32, name='embedding_input'), name='embedding_input', description=\"created by layer 'embedding_input'\"), but it was called on an input with incompatible shape (None,).\n"
          ]
        },
        {
          "output_type": "stream",
          "name": "stdout",
          "text": [
            "1/1 [==============================] - 0s 69ms/step\n"
          ]
        },
        {
          "output_type": "execute_result",
          "data": {
            "text/plain": [
              "array([[-0.00853352, -0.03817616, -0.03406896, -0.00016288,  0.03229756,\n",
              "        -0.02082065,  0.01469362,  0.02971946, -0.04030919, -0.0255996 ],\n",
              "       [-0.00853352, -0.03817616, -0.03406896, -0.00016288,  0.03229756,\n",
              "        -0.02082065,  0.01469362,  0.02971946, -0.04030919, -0.0255996 ],\n",
              "       [-0.00853352, -0.03817616, -0.03406896, -0.00016288,  0.03229756,\n",
              "        -0.02082065,  0.01469362,  0.02971946, -0.04030919, -0.0255996 ],\n",
              "       [-0.00853352, -0.03817616, -0.03406896, -0.00016288,  0.03229756,\n",
              "        -0.02082065,  0.01469362,  0.02971946, -0.04030919, -0.0255996 ],\n",
              "       [ 0.00816058,  0.01237323,  0.02056812,  0.00240614, -0.01367014,\n",
              "        -0.02577491,  0.0128651 ,  0.04323825, -0.04324253, -0.04588889],\n",
              "       [ 0.02852141,  0.00028582, -0.04847406,  0.03091565, -0.04063823,\n",
              "        -0.00558642, -0.01298889, -0.02087606,  0.03976538, -0.04874906],\n",
              "       [ 0.02872713, -0.00914172,  0.04347495, -0.03983753,  0.04799494,\n",
              "         0.02843003,  0.00888339, -0.03077892, -0.02447654,  0.00099509],\n",
              "       [-0.00612438,  0.01991886,  0.03594052, -0.03995347,  0.00599873,\n",
              "        -0.04806892,  0.01857284,  0.00072331, -0.02954841,  0.04245596]],\n",
              "      dtype=float32)"
            ]
          },
          "metadata": {},
          "execution_count": 16
        }
      ]
    },
    {
      "cell_type": "code",
      "execution_count": 17,
      "metadata": {
        "colab": {
          "base_uri": "https://localhost:8080/"
        },
        "id": "kzKP69gx0XGH",
        "outputId": "8bff6989-ffbe-4801-d30d-ac50ba6cf547"
      },
      "outputs": [
        {
          "output_type": "stream",
          "name": "stdout",
          "text": [
            "1/1 [==============================] - 0s 36ms/step\n",
            "[[[-0.00853352 -0.03817616 -0.03406896 -0.00016288  0.03229756\n",
            "   -0.02082065  0.01469362  0.02971946 -0.04030919 -0.0255996 ]\n",
            "  [-0.00853352 -0.03817616 -0.03406896 -0.00016288  0.03229756\n",
            "   -0.02082065  0.01469362  0.02971946 -0.04030919 -0.0255996 ]\n",
            "  [-0.00853352 -0.03817616 -0.03406896 -0.00016288  0.03229756\n",
            "   -0.02082065  0.01469362  0.02971946 -0.04030919 -0.0255996 ]\n",
            "  [-0.00853352 -0.03817616 -0.03406896 -0.00016288  0.03229756\n",
            "   -0.02082065  0.01469362  0.02971946 -0.04030919 -0.0255996 ]\n",
            "  [ 0.00816058  0.01237323  0.02056812  0.00240614 -0.01367014\n",
            "   -0.02577491  0.0128651   0.04323825 -0.04324253 -0.04588889]\n",
            "  [ 0.02852141  0.00028582 -0.04847406  0.03091565 -0.04063823\n",
            "   -0.00558642 -0.01298889 -0.02087606  0.03976538 -0.04874906]\n",
            "  [ 0.02872713 -0.00914172  0.04347495 -0.03983753  0.04799494\n",
            "    0.02843003  0.00888339 -0.03077892 -0.02447654  0.00099509]\n",
            "  [-0.00612438  0.01991886  0.03594052 -0.03995347  0.00599873\n",
            "   -0.04806892  0.01857284  0.00072331 -0.02954841  0.04245596]]\n",
            "\n",
            " [[-0.00853352 -0.03817616 -0.03406896 -0.00016288  0.03229756\n",
            "   -0.02082065  0.01469362  0.02971946 -0.04030919 -0.0255996 ]\n",
            "  [-0.00853352 -0.03817616 -0.03406896 -0.00016288  0.03229756\n",
            "   -0.02082065  0.01469362  0.02971946 -0.04030919 -0.0255996 ]\n",
            "  [-0.00853352 -0.03817616 -0.03406896 -0.00016288  0.03229756\n",
            "   -0.02082065  0.01469362  0.02971946 -0.04030919 -0.0255996 ]\n",
            "  [-0.00853352 -0.03817616 -0.03406896 -0.00016288  0.03229756\n",
            "   -0.02082065  0.01469362  0.02971946 -0.04030919 -0.0255996 ]\n",
            "  [ 0.00816058  0.01237323  0.02056812  0.00240614 -0.01367014\n",
            "   -0.02577491  0.0128651   0.04323825 -0.04324253 -0.04588889]\n",
            "  [ 0.02852141  0.00028582 -0.04847406  0.03091565 -0.04063823\n",
            "   -0.00558642 -0.01298889 -0.02087606  0.03976538 -0.04874906]\n",
            "  [ 0.02872713 -0.00914172  0.04347495 -0.03983753  0.04799494\n",
            "    0.02843003  0.00888339 -0.03077892 -0.02447654  0.00099509]\n",
            "  [ 0.01681225  0.03261432  0.0305907  -0.04069804 -0.00892039\n",
            "    0.04761431 -0.01561384  0.01954962 -0.01649232 -0.03844507]]\n",
            "\n",
            " [[-0.00853352 -0.03817616 -0.03406896 -0.00016288  0.03229756\n",
            "   -0.02082065  0.01469362  0.02971946 -0.04030919 -0.0255996 ]\n",
            "  [-0.00853352 -0.03817616 -0.03406896 -0.00016288  0.03229756\n",
            "   -0.02082065  0.01469362  0.02971946 -0.04030919 -0.0255996 ]\n",
            "  [-0.00853352 -0.03817616 -0.03406896 -0.00016288  0.03229756\n",
            "   -0.02082065  0.01469362  0.02971946 -0.04030919 -0.0255996 ]\n",
            "  [-0.00853352 -0.03817616 -0.03406896 -0.00016288  0.03229756\n",
            "   -0.02082065  0.01469362  0.02971946 -0.04030919 -0.0255996 ]\n",
            "  [ 0.00816058  0.01237323  0.02056812  0.00240614 -0.01367014\n",
            "   -0.02577491  0.0128651   0.04323825 -0.04324253 -0.04588889]\n",
            "  [ 0.02707025 -0.0130685   0.03094951  0.03561488  0.04202867\n",
            "   -0.03888931  0.01921869 -0.04543356  0.00251024  0.00755254]\n",
            "  [ 0.02872713 -0.00914172  0.04347495 -0.03983753  0.04799494\n",
            "    0.02843003  0.00888339 -0.03077892 -0.02447654  0.00099509]\n",
            "  [ 0.00389034  0.01336526 -0.03192959  0.04957582 -0.04014868\n",
            "    0.03719002 -0.00569826 -0.03894371  0.04633253  0.02688828]]\n",
            "\n",
            " [[-0.00853352 -0.03817616 -0.03406896 -0.00016288  0.03229756\n",
            "   -0.02082065  0.01469362  0.02971946 -0.04030919 -0.0255996 ]\n",
            "  [-0.00853352 -0.03817616 -0.03406896 -0.00016288  0.03229756\n",
            "   -0.02082065  0.01469362  0.02971946 -0.04030919 -0.0255996 ]\n",
            "  [-0.00853352 -0.03817616 -0.03406896 -0.00016288  0.03229756\n",
            "   -0.02082065  0.01469362  0.02971946 -0.04030919 -0.0255996 ]\n",
            "  [-0.04179607  0.01559596  0.03915787  0.01216923  0.00213376\n",
            "   -0.02169013  0.04051078 -0.01542959 -0.00458943 -0.01746936]\n",
            "  [-0.00855744 -0.00661941  0.03207513 -0.01725212 -0.01581585\n",
            "   -0.01018009  0.02085822  0.00838815  0.00615605 -0.04978616]\n",
            "  [-0.04857755  0.0483301   0.0048639  -0.01119884 -0.0218333\n",
            "    0.03736633  0.03222403 -0.01432247  0.02385536  0.01093017]\n",
            "  [ 0.03609421  0.03683162 -0.00738595 -0.02904452 -0.03513639\n",
            "    0.03503129 -0.0493174   0.04286015 -0.03402903 -0.00181099]\n",
            "  [ 0.0306615   0.01616813  0.03519477 -0.04487187 -0.01889922\n",
            "   -0.04893474  0.03708247 -0.03177844  0.03793455 -0.00203661]]\n",
            "\n",
            " [[-0.00853352 -0.03817616 -0.03406896 -0.00016288  0.03229756\n",
            "   -0.02082065  0.01469362  0.02971946 -0.04030919 -0.0255996 ]\n",
            "  [-0.00853352 -0.03817616 -0.03406896 -0.00016288  0.03229756\n",
            "   -0.02082065  0.01469362  0.02971946 -0.04030919 -0.0255996 ]\n",
            "  [-0.00853352 -0.03817616 -0.03406896 -0.00016288  0.03229756\n",
            "   -0.02082065  0.01469362  0.02971946 -0.04030919 -0.0255996 ]\n",
            "  [-0.04179607  0.01559596  0.03915787  0.01216923  0.00213376\n",
            "   -0.02169013  0.04051078 -0.01542959 -0.00458943 -0.01746936]\n",
            "  [-0.00855744 -0.00661941  0.03207513 -0.01725212 -0.01581585\n",
            "   -0.01018009  0.02085822  0.00838815  0.00615605 -0.04978616]\n",
            "  [-0.04857755  0.0483301   0.0048639  -0.01119884 -0.0218333\n",
            "    0.03736633  0.03222403 -0.01432247  0.02385536  0.01093017]\n",
            "  [ 0.03609421  0.03683162 -0.00738595 -0.02904452 -0.03513639\n",
            "    0.03503129 -0.0493174   0.04286015 -0.03402903 -0.00181099]\n",
            "  [-0.04781822  0.04273833 -0.02708737  0.01573228 -0.00730795\n",
            "   -0.01995696 -0.04665921  0.0090587   0.04456994  0.0233124 ]]\n",
            "\n",
            " [[-0.00853352 -0.03817616 -0.03406896 -0.00016288  0.03229756\n",
            "   -0.02082065  0.01469362  0.02971946 -0.04030919 -0.0255996 ]\n",
            "  [-0.00853352 -0.03817616 -0.03406896 -0.00016288  0.03229756\n",
            "   -0.02082065  0.01469362  0.02971946 -0.04030919 -0.0255996 ]\n",
            "  [-0.00853352 -0.03817616 -0.03406896 -0.00016288  0.03229756\n",
            "   -0.02082065  0.01469362  0.02971946 -0.04030919 -0.0255996 ]\n",
            "  [ 0.00425766  0.01440329 -0.01387391  0.03059605  0.04160786\n",
            "   -0.02392684 -0.02925898 -0.04867416  0.00065652  0.02162529]\n",
            "  [ 0.00816058  0.01237323  0.02056812  0.00240614 -0.01367014\n",
            "   -0.02577491  0.0128651   0.04323825 -0.04324253 -0.04588889]\n",
            "  [-0.02422718 -0.04984167 -0.02599142  0.02007506  0.02403592\n",
            "   -0.02217848  0.03783485  0.03215475 -0.03108898  0.00918842]\n",
            "  [ 0.02872713 -0.00914172  0.04347495 -0.03983753  0.04799494\n",
            "    0.02843003  0.00888339 -0.03077892 -0.02447654  0.00099509]\n",
            "  [-0.00323971 -0.04774627  0.00071023 -0.02308868  0.03665492\n",
            "    0.03003592  0.02478663 -0.01985041 -0.01061356  0.04758004]]\n",
            "\n",
            " [[-0.00853352 -0.03817616 -0.03406896 -0.00016288  0.03229756\n",
            "   -0.02082065  0.01469362  0.02971946 -0.04030919 -0.0255996 ]\n",
            "  [-0.00853352 -0.03817616 -0.03406896 -0.00016288  0.03229756\n",
            "   -0.02082065  0.01469362  0.02971946 -0.04030919 -0.0255996 ]\n",
            "  [-0.00853352 -0.03817616 -0.03406896 -0.00016288  0.03229756\n",
            "   -0.02082065  0.01469362  0.02971946 -0.04030919 -0.0255996 ]\n",
            "  [-0.00853352 -0.03817616 -0.03406896 -0.00016288  0.03229756\n",
            "   -0.02082065  0.01469362  0.02971946 -0.04030919 -0.0255996 ]\n",
            "  [ 0.04827723 -0.0307363  -0.01739488  0.04557842 -0.03200629\n",
            "   -0.00739801  0.0201827   0.0326806  -0.00415887  0.00909654]\n",
            "  [-0.04868646 -0.01383325 -0.02034643  0.00807106  0.01051836\n",
            "    0.04937459 -0.01508746 -0.03945935 -0.01336446  0.00648118]\n",
            "  [-0.02754151 -0.02236974 -0.01051547  0.02128283 -0.00480536\n",
            "    0.00946944  0.03568308 -0.01690412  0.00708063  0.03065567]\n",
            "  [ 0.03609421  0.03683162 -0.00738595 -0.02904452 -0.03513639\n",
            "    0.03503129 -0.0493174   0.04286015 -0.03402903 -0.00181099]]]\n"
          ]
        }
      ],
      "source": [
        "print(model.predict(embedded_docs))"
      ]
    },
    {
      "cell_type": "code",
      "execution_count": 18,
      "metadata": {
        "id": "JuUxfk7d0XGH",
        "outputId": "26c93d81-864b-4aa3-d10c-e95c7337fcab",
        "colab": {
          "base_uri": "https://localhost:8080/"
        }
      },
      "outputs": [
        {
          "output_type": "execute_result",
          "data": {
            "text/plain": [
              "array([  0,   0,   0,   0, 431, 288, 466, 173], dtype=int32)"
            ]
          },
          "metadata": {},
          "execution_count": 18
        }
      ],
      "source": [
        "embedded_docs[0]"
      ]
    },
    {
      "cell_type": "code",
      "execution_count": 19,
      "metadata": {
        "id": "6JJ_zD0u0XGH",
        "outputId": "7e8430d1-28a4-44dd-d6fe-36901b9afc56",
        "colab": {
          "base_uri": "https://localhost:8080/"
        }
      },
      "outputs": [
        {
          "output_type": "stream",
          "name": "stdout",
          "text": [
            "1/1 [==============================] - 0s 19ms/step\n",
            "[[-0.00853352 -0.03817616 -0.03406896 -0.00016288  0.03229756 -0.02082065\n",
            "   0.01469362  0.02971946 -0.04030919 -0.0255996 ]\n",
            " [-0.00853352 -0.03817616 -0.03406896 -0.00016288  0.03229756 -0.02082065\n",
            "   0.01469362  0.02971946 -0.04030919 -0.0255996 ]\n",
            " [-0.00853352 -0.03817616 -0.03406896 -0.00016288  0.03229756 -0.02082065\n",
            "   0.01469362  0.02971946 -0.04030919 -0.0255996 ]\n",
            " [-0.00853352 -0.03817616 -0.03406896 -0.00016288  0.03229756 -0.02082065\n",
            "   0.01469362  0.02971946 -0.04030919 -0.0255996 ]\n",
            " [ 0.00816058  0.01237323  0.02056812  0.00240614 -0.01367014 -0.02577491\n",
            "   0.0128651   0.04323825 -0.04324253 -0.04588889]\n",
            " [ 0.02852141  0.00028582 -0.04847406  0.03091565 -0.04063823 -0.00558642\n",
            "  -0.01298889 -0.02087606  0.03976538 -0.04874906]\n",
            " [ 0.02872713 -0.00914172  0.04347495 -0.03983753  0.04799494  0.02843003\n",
            "   0.00888339 -0.03077892 -0.02447654  0.00099509]\n",
            " [-0.00612438  0.01991886  0.03594052 -0.03995347  0.00599873 -0.04806892\n",
            "   0.01857284  0.00072331 -0.02954841  0.04245596]]\n"
          ]
        }
      ],
      "source": [
        "print(model.predict(embedded_docs)[0])"
      ]
    }
  ],
  "metadata": {
    "kernelspec": {
      "display_name": "Python 3",
      "language": "python",
      "name": "python3"
    },
    "language_info": {
      "codemirror_mode": {
        "name": "ipython",
        "version": 3
      },
      "file_extension": ".py",
      "mimetype": "text/x-python",
      "name": "python",
      "nbconvert_exporter": "python",
      "pygments_lexer": "ipython3",
      "version": "3.7.4"
    },
    "colab": {
      "provenance": [],
      "include_colab_link": true
    },
    "accelerator": "GPU",
    "gpuClass": "standard"
  },
  "nbformat": 4,
  "nbformat_minor": 0
}