{
  "nbformat": 4,
  "nbformat_minor": 0,
  "metadata": {
    "colab": {
      "provenance": [],
      "authorship_tag": "ABX9TyNmz0A4iQ2lrfZZur2ngKUT",
      "include_colab_link": true
    },
    "kernelspec": {
      "name": "python3",
      "display_name": "Python 3"
    },
    "language_info": {
      "name": "python"
    }
  },
  "cells": [
    {
      "cell_type": "markdown",
      "metadata": {
        "id": "view-in-github",
        "colab_type": "text"
      },
      "source": [
        "<a href=\"https://colab.research.google.com/github/vg11072001/natural-language-processing/blob/main/text%20processing/1_nlp_tonkenization_stemming_lemmatizing_.ipynb\" target=\"_parent\"><img src=\"https://colab.research.google.com/assets/colab-badge.svg\" alt=\"Open In Colab\"/></a>"
      ]
    },
    {
      "cell_type": "code",
      "execution_count": 12,
      "metadata": {
        "colab": {
          "base_uri": "https://localhost:8080/"
        },
        "id": "OIF211vcfw2F",
        "outputId": "a7c18201-4dab-483e-c612-440695660d55"
      },
      "outputs": [
        {
          "output_type": "stream",
          "name": "stdout",
          "text": [
            "Looking in indexes: https://pypi.org/simple, https://us-python.pkg.dev/colab-wheels/public/simple/\n",
            "Requirement already satisfied: nltk in /usr/local/lib/python3.8/dist-packages (3.7)\n",
            "Requirement already satisfied: tqdm in /usr/local/lib/python3.8/dist-packages (from nltk) (4.64.1)\n",
            "Requirement already satisfied: click in /usr/local/lib/python3.8/dist-packages (from nltk) (7.1.2)\n",
            "Requirement already satisfied: regex>=2021.8.3 in /usr/local/lib/python3.8/dist-packages (from nltk) (2022.6.2)\n",
            "Requirement already satisfied: joblib in /usr/local/lib/python3.8/dist-packages (from nltk) (1.2.0)\n"
          ]
        }
      ],
      "source": [
        "!pip install nltk"
      ]
    },
    {
      "cell_type": "code",
      "source": [
        "paragraph = \"\"\"\n",
        "Spotify is a digital music, podcast, and video service that gives you access to millions of songs and other content from creators all over the world.\n",
        "\n",
        "Basic functions such as playing music are totally free, but you can also choose to upgrade to Spotify Premium.\n",
        "\n",
        "Whether you have Premium or not, you can.\n",
        "\n",
        "Get recommendations based on your taste.\n",
        "Build collections of music and podcasts And more!\n",
        "Spotify is available across a range of devices, including computers, phones, tablets, speakers, TVs, and cars, and you can easily transition from one to another with Spotify Connect.\n",
        "\n",
        "Can I keep music from Spotify?\n",
        "Spotify only gives access to music and podcasts through our apps. Our licensing means there's no way to export our content outside of the app.\n",
        "\"\"\"\n",
        "\n",
        "paragraph"
      ],
      "metadata": {
        "colab": {
          "base_uri": "https://localhost:8080/",
          "height": 192
        },
        "id": "upDFhiKcf2p-",
        "outputId": "d2a52465-26c4-4f5f-a16f-46923919f846"
      },
      "execution_count": 13,
      "outputs": [
        {
          "output_type": "execute_result",
          "data": {
            "text/plain": [
              "\"\\nSpotify is a digital music, podcast, and video service that gives you access to millions of songs and other content from creators all over the world.\\n\\nBasic functions such as playing music are totally free, but you can also choose to upgrade to Spotify Premium.\\n\\nWhether you have Premium or not, you can.\\n\\nGet recommendations based on your taste.\\nBuild collections of music and podcasts And more!\\nSpotify is available across a range of devices, including computers, phones, tablets, speakers, TVs, and cars, and you can easily transition from one to another with Spotify Connect.\\n\\nCan I keep music from Spotify?\\nSpotify only gives access to music and podcasts through our apps. Our licensing means there's no way to export our content outside of the app.\\n\""
            ],
            "application/vnd.google.colaboratory.intrinsic+json": {
              "type": "string"
            }
          },
          "metadata": {},
          "execution_count": 13
        }
      ]
    },
    {
      "cell_type": "code",
      "source": [
        "import nltk \n",
        "from nltk.stem import PorterStemmer\n",
        "from nltk.corpus import stopwords"
      ],
      "metadata": {
        "id": "LMzW-k7rgKzM"
      },
      "execution_count": 14,
      "outputs": []
    },
    {
      "cell_type": "markdown",
      "source": [
        "Tokenization -- converts paragraph- sentences-words"
      ],
      "metadata": {
        "id": "G0rWgH0ak2ex"
      }
    },
    {
      "cell_type": "code",
      "source": [
        "nltk.download('punkt')\n",
        "Sentences = nltk.sent_tokenize(paragraph)"
      ],
      "metadata": {
        "colab": {
          "base_uri": "https://localhost:8080/"
        },
        "id": "BgfH5Dmvkwd1",
        "outputId": "405b8f86-7b95-44c1-8ab2-56bd352c9cab"
      },
      "execution_count": 15,
      "outputs": [
        {
          "output_type": "stream",
          "name": "stderr",
          "text": [
            "[nltk_data] Downloading package punkt to /root/nltk_data...\n",
            "[nltk_data]   Package punkt is already up-to-date!\n"
          ]
        }
      ]
    },
    {
      "cell_type": "code",
      "source": [
        "print(Sentences)"
      ],
      "metadata": {
        "colab": {
          "base_uri": "https://localhost:8080/"
        },
        "id": "acfBnDnSlJE5",
        "outputId": "4638b6fb-266c-4cc4-f8db-82551d3aabbf"
      },
      "execution_count": 16,
      "outputs": [
        {
          "output_type": "stream",
          "name": "stdout",
          "text": [
            "['\\nSpotify is a digital music, podcast, and video service that gives you access to millions of songs and other content from creators all over the world.', 'Basic functions such as playing music are totally free, but you can also choose to upgrade to Spotify Premium.', 'Whether you have Premium or not, you can.', 'Get recommendations based on your taste.', 'Build collections of music and podcasts And more!', 'Spotify is available across a range of devices, including computers, phones, tablets, speakers, TVs, and cars, and you can easily transition from one to another with Spotify Connect.', 'Can I keep music from Spotify?', 'Spotify only gives access to music and podcasts through our apps.', \"Our licensing means there's no way to export our content outside of the app.\"]\n"
          ]
        }
      ]
    },
    {
      "cell_type": "code",
      "source": [
        "stemmer= PorterStemmer()\n",
        "stemmer.stem('paragraphs')"
      ],
      "metadata": {
        "colab": {
          "base_uri": "https://localhost:8080/",
          "height": 36
        },
        "id": "qaWA62OclZMn",
        "outputId": "24b6df5d-badc-43bd-e949-f69a7eabed89"
      },
      "execution_count": 17,
      "outputs": [
        {
          "output_type": "execute_result",
          "data": {
            "text/plain": [
              "'paragraph'"
            ],
            "application/vnd.google.colaboratory.intrinsic+json": {
              "type": "string"
            }
          },
          "metadata": {},
          "execution_count": 17
        }
      ]
    },
    {
      "cell_type": "code",
      "source": [
        "from nltk.stem import WordNetLemmatizer\n",
        "lemmatizer = WordNetLemmatizer()"
      ],
      "metadata": {
        "id": "bRWRpVYNmAQb"
      },
      "execution_count": 18,
      "outputs": []
    },
    {
      "cell_type": "code",
      "source": [
        "import nltk\n",
        "nltk.download('all')"
      ],
      "metadata": {
        "colab": {
          "base_uri": "https://localhost:8080/"
        },
        "id": "ZN1rYCgGoV4y",
        "outputId": "1ebee461-9e7e-4e16-a14e-1f331e8ed6a8"
      },
      "execution_count": 19,
      "outputs": [
        {
          "output_type": "stream",
          "name": "stderr",
          "text": [
            "[nltk_data] Downloading collection 'all'\n",
            "[nltk_data]    | \n",
            "[nltk_data]    | Downloading package abc to /root/nltk_data...\n",
            "[nltk_data]    |   Unzipping corpora/abc.zip.\n",
            "[nltk_data]    | Downloading package alpino to /root/nltk_data...\n",
            "[nltk_data]    |   Unzipping corpora/alpino.zip.\n",
            "[nltk_data]    | Downloading package averaged_perceptron_tagger to\n",
            "[nltk_data]    |     /root/nltk_data...\n",
            "[nltk_data]    |   Unzipping taggers/averaged_perceptron_tagger.zip.\n",
            "[nltk_data]    | Downloading package averaged_perceptron_tagger_ru to\n",
            "[nltk_data]    |     /root/nltk_data...\n",
            "[nltk_data]    |   Unzipping\n",
            "[nltk_data]    |       taggers/averaged_perceptron_tagger_ru.zip.\n",
            "[nltk_data]    | Downloading package basque_grammars to\n",
            "[nltk_data]    |     /root/nltk_data...\n",
            "[nltk_data]    |   Unzipping grammars/basque_grammars.zip.\n",
            "[nltk_data]    | Downloading package bcp47 to /root/nltk_data...\n",
            "[nltk_data]    | Downloading package biocreative_ppi to\n",
            "[nltk_data]    |     /root/nltk_data...\n",
            "[nltk_data]    |   Unzipping corpora/biocreative_ppi.zip.\n",
            "[nltk_data]    | Downloading package bllip_wsj_no_aux to\n",
            "[nltk_data]    |     /root/nltk_data...\n",
            "[nltk_data]    |   Unzipping models/bllip_wsj_no_aux.zip.\n",
            "[nltk_data]    | Downloading package book_grammars to\n",
            "[nltk_data]    |     /root/nltk_data...\n",
            "[nltk_data]    |   Unzipping grammars/book_grammars.zip.\n",
            "[nltk_data]    | Downloading package brown to /root/nltk_data...\n",
            "[nltk_data]    |   Unzipping corpora/brown.zip.\n",
            "[nltk_data]    | Downloading package brown_tei to /root/nltk_data...\n",
            "[nltk_data]    |   Unzipping corpora/brown_tei.zip.\n",
            "[nltk_data]    | Downloading package cess_cat to /root/nltk_data...\n",
            "[nltk_data]    |   Unzipping corpora/cess_cat.zip.\n",
            "[nltk_data]    | Downloading package cess_esp to /root/nltk_data...\n",
            "[nltk_data]    |   Unzipping corpora/cess_esp.zip.\n",
            "[nltk_data]    | Downloading package chat80 to /root/nltk_data...\n",
            "[nltk_data]    |   Unzipping corpora/chat80.zip.\n",
            "[nltk_data]    | Downloading package city_database to\n",
            "[nltk_data]    |     /root/nltk_data...\n",
            "[nltk_data]    |   Unzipping corpora/city_database.zip.\n",
            "[nltk_data]    | Downloading package cmudict to /root/nltk_data...\n",
            "[nltk_data]    |   Unzipping corpora/cmudict.zip.\n",
            "[nltk_data]    | Downloading package comparative_sentences to\n",
            "[nltk_data]    |     /root/nltk_data...\n",
            "[nltk_data]    |   Unzipping corpora/comparative_sentences.zip.\n",
            "[nltk_data]    | Downloading package comtrans to /root/nltk_data...\n",
            "[nltk_data]    | Downloading package conll2000 to /root/nltk_data...\n",
            "[nltk_data]    |   Unzipping corpora/conll2000.zip.\n",
            "[nltk_data]    | Downloading package conll2002 to /root/nltk_data...\n",
            "[nltk_data]    |   Unzipping corpora/conll2002.zip.\n",
            "[nltk_data]    | Downloading package conll2007 to /root/nltk_data...\n",
            "[nltk_data]    | Downloading package crubadan to /root/nltk_data...\n",
            "[nltk_data]    |   Unzipping corpora/crubadan.zip.\n",
            "[nltk_data]    | Downloading package dependency_treebank to\n",
            "[nltk_data]    |     /root/nltk_data...\n",
            "[nltk_data]    |   Unzipping corpora/dependency_treebank.zip.\n",
            "[nltk_data]    | Downloading package dolch to /root/nltk_data...\n",
            "[nltk_data]    |   Unzipping corpora/dolch.zip.\n",
            "[nltk_data]    | Downloading package europarl_raw to\n",
            "[nltk_data]    |     /root/nltk_data...\n",
            "[nltk_data]    |   Unzipping corpora/europarl_raw.zip.\n",
            "[nltk_data]    | Downloading package extended_omw to\n",
            "[nltk_data]    |     /root/nltk_data...\n",
            "[nltk_data]    | Downloading package floresta to /root/nltk_data...\n",
            "[nltk_data]    |   Unzipping corpora/floresta.zip.\n",
            "[nltk_data]    | Downloading package framenet_v15 to\n",
            "[nltk_data]    |     /root/nltk_data...\n",
            "[nltk_data]    |   Unzipping corpora/framenet_v15.zip.\n",
            "[nltk_data]    | Downloading package framenet_v17 to\n",
            "[nltk_data]    |     /root/nltk_data...\n",
            "[nltk_data]    |   Unzipping corpora/framenet_v17.zip.\n",
            "[nltk_data]    | Downloading package gazetteers to /root/nltk_data...\n",
            "[nltk_data]    |   Unzipping corpora/gazetteers.zip.\n",
            "[nltk_data]    | Downloading package genesis to /root/nltk_data...\n",
            "[nltk_data]    |   Unzipping corpora/genesis.zip.\n",
            "[nltk_data]    | Downloading package gutenberg to /root/nltk_data...\n",
            "[nltk_data]    |   Unzipping corpora/gutenberg.zip.\n",
            "[nltk_data]    | Downloading package ieer to /root/nltk_data...\n",
            "[nltk_data]    |   Unzipping corpora/ieer.zip.\n",
            "[nltk_data]    | Downloading package inaugural to /root/nltk_data...\n",
            "[nltk_data]    |   Unzipping corpora/inaugural.zip.\n",
            "[nltk_data]    | Downloading package indian to /root/nltk_data...\n",
            "[nltk_data]    |   Unzipping corpora/indian.zip.\n",
            "[nltk_data]    | Downloading package jeita to /root/nltk_data...\n",
            "[nltk_data]    | Downloading package kimmo to /root/nltk_data...\n",
            "[nltk_data]    |   Unzipping corpora/kimmo.zip.\n",
            "[nltk_data]    | Downloading package knbc to /root/nltk_data...\n",
            "[nltk_data]    | Downloading package large_grammars to\n",
            "[nltk_data]    |     /root/nltk_data...\n",
            "[nltk_data]    |   Unzipping grammars/large_grammars.zip.\n",
            "[nltk_data]    | Downloading package lin_thesaurus to\n",
            "[nltk_data]    |     /root/nltk_data...\n",
            "[nltk_data]    |   Unzipping corpora/lin_thesaurus.zip.\n",
            "[nltk_data]    | Downloading package mac_morpho to /root/nltk_data...\n",
            "[nltk_data]    |   Unzipping corpora/mac_morpho.zip.\n",
            "[nltk_data]    | Downloading package machado to /root/nltk_data...\n",
            "[nltk_data]    | Downloading package masc_tagged to /root/nltk_data...\n",
            "[nltk_data]    | Downloading package maxent_ne_chunker to\n",
            "[nltk_data]    |     /root/nltk_data...\n",
            "[nltk_data]    |   Unzipping chunkers/maxent_ne_chunker.zip.\n",
            "[nltk_data]    | Downloading package maxent_treebank_pos_tagger to\n",
            "[nltk_data]    |     /root/nltk_data...\n",
            "[nltk_data]    |   Unzipping taggers/maxent_treebank_pos_tagger.zip.\n",
            "[nltk_data]    | Downloading package moses_sample to\n",
            "[nltk_data]    |     /root/nltk_data...\n",
            "[nltk_data]    |   Unzipping models/moses_sample.zip.\n",
            "[nltk_data]    | Downloading package movie_reviews to\n",
            "[nltk_data]    |     /root/nltk_data...\n",
            "[nltk_data]    |   Unzipping corpora/movie_reviews.zip.\n",
            "[nltk_data]    | Downloading package mte_teip5 to /root/nltk_data...\n",
            "[nltk_data]    |   Unzipping corpora/mte_teip5.zip.\n",
            "[nltk_data]    | Downloading package mwa_ppdb to /root/nltk_data...\n",
            "[nltk_data]    |   Unzipping misc/mwa_ppdb.zip.\n",
            "[nltk_data]    | Downloading package names to /root/nltk_data...\n",
            "[nltk_data]    |   Unzipping corpora/names.zip.\n",
            "[nltk_data]    | Downloading package nombank.1.0 to /root/nltk_data...\n",
            "[nltk_data]    | Downloading package nonbreaking_prefixes to\n",
            "[nltk_data]    |     /root/nltk_data...\n",
            "[nltk_data]    |   Unzipping corpora/nonbreaking_prefixes.zip.\n",
            "[nltk_data]    | Downloading package nps_chat to /root/nltk_data...\n",
            "[nltk_data]    |   Unzipping corpora/nps_chat.zip.\n",
            "[nltk_data]    | Downloading package omw to /root/nltk_data...\n",
            "[nltk_data]    | Downloading package omw-1.4 to /root/nltk_data...\n",
            "[nltk_data]    | Downloading package opinion_lexicon to\n",
            "[nltk_data]    |     /root/nltk_data...\n",
            "[nltk_data]    |   Unzipping corpora/opinion_lexicon.zip.\n",
            "[nltk_data]    | Downloading package panlex_swadesh to\n",
            "[nltk_data]    |     /root/nltk_data...\n",
            "[nltk_data]    | Downloading package paradigms to /root/nltk_data...\n",
            "[nltk_data]    |   Unzipping corpora/paradigms.zip.\n",
            "[nltk_data]    | Downloading package pe08 to /root/nltk_data...\n",
            "[nltk_data]    |   Unzipping corpora/pe08.zip.\n",
            "[nltk_data]    | Downloading package perluniprops to\n",
            "[nltk_data]    |     /root/nltk_data...\n",
            "[nltk_data]    |   Unzipping misc/perluniprops.zip.\n",
            "[nltk_data]    | Downloading package pil to /root/nltk_data...\n",
            "[nltk_data]    |   Unzipping corpora/pil.zip.\n",
            "[nltk_data]    | Downloading package pl196x to /root/nltk_data...\n",
            "[nltk_data]    |   Unzipping corpora/pl196x.zip.\n",
            "[nltk_data]    | Downloading package porter_test to /root/nltk_data...\n",
            "[nltk_data]    |   Unzipping stemmers/porter_test.zip.\n",
            "[nltk_data]    | Downloading package ppattach to /root/nltk_data...\n",
            "[nltk_data]    |   Unzipping corpora/ppattach.zip.\n",
            "[nltk_data]    | Downloading package problem_reports to\n",
            "[nltk_data]    |     /root/nltk_data...\n",
            "[nltk_data]    |   Unzipping corpora/problem_reports.zip.\n",
            "[nltk_data]    | Downloading package product_reviews_1 to\n",
            "[nltk_data]    |     /root/nltk_data...\n",
            "[nltk_data]    |   Unzipping corpora/product_reviews_1.zip.\n",
            "[nltk_data]    | Downloading package product_reviews_2 to\n",
            "[nltk_data]    |     /root/nltk_data...\n",
            "[nltk_data]    |   Unzipping corpora/product_reviews_2.zip.\n",
            "[nltk_data]    | Downloading package propbank to /root/nltk_data...\n",
            "[nltk_data]    | Downloading package pros_cons to /root/nltk_data...\n",
            "[nltk_data]    |   Unzipping corpora/pros_cons.zip.\n",
            "[nltk_data]    | Downloading package ptb to /root/nltk_data...\n",
            "[nltk_data]    |   Unzipping corpora/ptb.zip.\n",
            "[nltk_data]    | Downloading package punkt to /root/nltk_data...\n",
            "[nltk_data]    |   Package punkt is already up-to-date!\n",
            "[nltk_data]    | Downloading package qc to /root/nltk_data...\n",
            "[nltk_data]    |   Unzipping corpora/qc.zip.\n",
            "[nltk_data]    | Downloading package reuters to /root/nltk_data...\n",
            "[nltk_data]    | Downloading package rslp to /root/nltk_data...\n",
            "[nltk_data]    |   Unzipping stemmers/rslp.zip.\n",
            "[nltk_data]    | Downloading package rte to /root/nltk_data...\n",
            "[nltk_data]    |   Unzipping corpora/rte.zip.\n",
            "[nltk_data]    | Downloading package sample_grammars to\n",
            "[nltk_data]    |     /root/nltk_data...\n",
            "[nltk_data]    |   Unzipping grammars/sample_grammars.zip.\n",
            "[nltk_data]    | Downloading package semcor to /root/nltk_data...\n",
            "[nltk_data]    | Downloading package senseval to /root/nltk_data...\n",
            "[nltk_data]    |   Unzipping corpora/senseval.zip.\n",
            "[nltk_data]    | Downloading package sentence_polarity to\n",
            "[nltk_data]    |     /root/nltk_data...\n",
            "[nltk_data]    |   Unzipping corpora/sentence_polarity.zip.\n",
            "[nltk_data]    | Downloading package sentiwordnet to\n",
            "[nltk_data]    |     /root/nltk_data...\n",
            "[nltk_data]    |   Unzipping corpora/sentiwordnet.zip.\n",
            "[nltk_data]    | Downloading package shakespeare to /root/nltk_data...\n",
            "[nltk_data]    |   Unzipping corpora/shakespeare.zip.\n",
            "[nltk_data]    | Downloading package sinica_treebank to\n",
            "[nltk_data]    |     /root/nltk_data...\n",
            "[nltk_data]    |   Unzipping corpora/sinica_treebank.zip.\n",
            "[nltk_data]    | Downloading package smultron to /root/nltk_data...\n",
            "[nltk_data]    |   Unzipping corpora/smultron.zip.\n",
            "[nltk_data]    | Downloading package snowball_data to\n",
            "[nltk_data]    |     /root/nltk_data...\n",
            "[nltk_data]    | Downloading package spanish_grammars to\n",
            "[nltk_data]    |     /root/nltk_data...\n",
            "[nltk_data]    |   Unzipping grammars/spanish_grammars.zip.\n",
            "[nltk_data]    | Downloading package state_union to /root/nltk_data...\n",
            "[nltk_data]    |   Unzipping corpora/state_union.zip.\n",
            "[nltk_data]    | Downloading package stopwords to /root/nltk_data...\n",
            "[nltk_data]    |   Unzipping corpora/stopwords.zip.\n",
            "[nltk_data]    | Downloading package subjectivity to\n",
            "[nltk_data]    |     /root/nltk_data...\n",
            "[nltk_data]    |   Unzipping corpora/subjectivity.zip.\n",
            "[nltk_data]    | Downloading package swadesh to /root/nltk_data...\n",
            "[nltk_data]    |   Unzipping corpora/swadesh.zip.\n",
            "[nltk_data]    | Downloading package switchboard to /root/nltk_data...\n",
            "[nltk_data]    |   Unzipping corpora/switchboard.zip.\n",
            "[nltk_data]    | Downloading package tagsets to /root/nltk_data...\n",
            "[nltk_data]    |   Unzipping help/tagsets.zip.\n",
            "[nltk_data]    | Downloading package timit to /root/nltk_data...\n",
            "[nltk_data]    |   Unzipping corpora/timit.zip.\n",
            "[nltk_data]    | Downloading package toolbox to /root/nltk_data...\n",
            "[nltk_data]    |   Unzipping corpora/toolbox.zip.\n",
            "[nltk_data]    | Downloading package treebank to /root/nltk_data...\n",
            "[nltk_data]    |   Unzipping corpora/treebank.zip.\n",
            "[nltk_data]    | Downloading package twitter_samples to\n",
            "[nltk_data]    |     /root/nltk_data...\n",
            "[nltk_data]    |   Unzipping corpora/twitter_samples.zip.\n",
            "[nltk_data]    | Downloading package udhr to /root/nltk_data...\n",
            "[nltk_data]    |   Unzipping corpora/udhr.zip.\n",
            "[nltk_data]    | Downloading package udhr2 to /root/nltk_data...\n",
            "[nltk_data]    |   Unzipping corpora/udhr2.zip.\n",
            "[nltk_data]    | Downloading package unicode_samples to\n",
            "[nltk_data]    |     /root/nltk_data...\n",
            "[nltk_data]    |   Unzipping corpora/unicode_samples.zip.\n",
            "[nltk_data]    | Downloading package universal_tagset to\n",
            "[nltk_data]    |     /root/nltk_data...\n",
            "[nltk_data]    |   Unzipping taggers/universal_tagset.zip.\n",
            "[nltk_data]    | Downloading package universal_treebanks_v20 to\n",
            "[nltk_data]    |     /root/nltk_data...\n",
            "[nltk_data]    | Downloading package vader_lexicon to\n",
            "[nltk_data]    |     /root/nltk_data...\n",
            "[nltk_data]    | Downloading package verbnet to /root/nltk_data...\n",
            "[nltk_data]    |   Unzipping corpora/verbnet.zip.\n",
            "[nltk_data]    | Downloading package verbnet3 to /root/nltk_data...\n",
            "[nltk_data]    |   Unzipping corpora/verbnet3.zip.\n",
            "[nltk_data]    | Downloading package webtext to /root/nltk_data...\n",
            "[nltk_data]    |   Unzipping corpora/webtext.zip.\n",
            "[nltk_data]    | Downloading package wmt15_eval to /root/nltk_data...\n",
            "[nltk_data]    |   Unzipping models/wmt15_eval.zip.\n",
            "[nltk_data]    | Downloading package word2vec_sample to\n",
            "[nltk_data]    |     /root/nltk_data...\n",
            "[nltk_data]    |   Unzipping models/word2vec_sample.zip.\n",
            "[nltk_data]    | Downloading package wordnet to /root/nltk_data...\n",
            "[nltk_data]    | Downloading package wordnet2021 to /root/nltk_data...\n",
            "[nltk_data]    | Downloading package wordnet31 to /root/nltk_data...\n",
            "[nltk_data]    | Downloading package wordnet_ic to /root/nltk_data...\n",
            "[nltk_data]    |   Unzipping corpora/wordnet_ic.zip.\n",
            "[nltk_data]    | Downloading package words to /root/nltk_data...\n",
            "[nltk_data]    |   Unzipping corpora/words.zip.\n",
            "[nltk_data]    | Downloading package ycoe to /root/nltk_data...\n",
            "[nltk_data]    |   Unzipping corpora/ycoe.zip.\n",
            "[nltk_data]    | \n",
            "[nltk_data]  Done downloading collection all\n"
          ]
        },
        {
          "output_type": "execute_result",
          "data": {
            "text/plain": [
              "True"
            ]
          },
          "metadata": {},
          "execution_count": 19
        }
      ]
    },
    {
      "cell_type": "code",
      "source": [
        "lemmatizer.lemmatize('goes')"
      ],
      "metadata": {
        "colab": {
          "base_uri": "https://localhost:8080/",
          "height": 36
        },
        "id": "fQP4onN_mR19",
        "outputId": "c72b51f5-423a-4505-8751-32e6e1c07f81"
      },
      "execution_count": 20,
      "outputs": [
        {
          "output_type": "execute_result",
          "data": {
            "text/plain": [
              "'go'"
            ],
            "application/vnd.google.colaboratory.intrinsic+json": {
              "type": "string"
            }
          },
          "metadata": {},
          "execution_count": 20
        }
      ]
    },
    {
      "cell_type": "code",
      "source": [
        "len(Sentences)"
      ],
      "metadata": {
        "colab": {
          "base_uri": "https://localhost:8080/"
        },
        "id": "Z94mQyjqrigW",
        "outputId": "c24416e5-01e8-4442-b0f6-53c9ac69e4e6"
      },
      "execution_count": 21,
      "outputs": [
        {
          "output_type": "execute_result",
          "data": {
            "text/plain": [
              "9"
            ]
          },
          "metadata": {},
          "execution_count": 21
        }
      ]
    },
    {
      "cell_type": "code",
      "source": [
        "import re #regular expression\n",
        "corpus=[]\n",
        "for i in range(len(Sentences)):\n",
        "  review= re.sub('[^a-zA-Z]',' ',Sentences[i])\n",
        "  review = review.lower()\n",
        "  corpus.append(review)\n"
      ],
      "metadata": {
        "id": "HOosoY40ra0O"
      },
      "execution_count": 22,
      "outputs": []
    },
    {
      "cell_type": "code",
      "source": [
        "corpus"
      ],
      "metadata": {
        "colab": {
          "base_uri": "https://localhost:8080/"
        },
        "id": "Y0_RSB2DsBu0",
        "outputId": "9ea67465-79f3-4616-d938-61b29f23e3ed"
      },
      "execution_count": 23,
      "outputs": [
        {
          "output_type": "execute_result",
          "data": {
            "text/plain": [
              "[' spotify is a digital music  podcast  and video service that gives you access to millions of songs and other content from creators all over the world ',\n",
              " 'basic functions such as playing music are totally free  but you can also choose to upgrade to spotify premium ',\n",
              " 'whether you have premium or not  you can ',\n",
              " 'get recommendations based on your taste ',\n",
              " 'build collections of music and podcasts and more ',\n",
              " 'spotify is available across a range of devices  including computers  phones  tablets  speakers  tvs  and cars  and you can easily transition from one to another with spotify connect ',\n",
              " 'can i keep music from spotify ',\n",
              " 'spotify only gives access to music and podcasts through our apps ',\n",
              " 'our licensing means there s no way to export our content outside of the app ']"
            ]
          },
          "metadata": {},
          "execution_count": 23
        }
      ]
    },
    {
      "cell_type": "markdown",
      "source": [
        "Stemming"
      ],
      "metadata": {
        "id": "zU5Bhpv7siFY"
      }
    },
    {
      "cell_type": "code",
      "source": [
        "stopwords.words('english')"
      ],
      "metadata": {
        "colab": {
          "base_uri": "https://localhost:8080/"
        },
        "id": "IS1dLHJ7thLw",
        "outputId": "3faa109c-afea-451e-8934-dc7adc06f929"
      },
      "execution_count": 24,
      "outputs": [
        {
          "output_type": "execute_result",
          "data": {
            "text/plain": [
              "['i',\n",
              " 'me',\n",
              " 'my',\n",
              " 'myself',\n",
              " 'we',\n",
              " 'our',\n",
              " 'ours',\n",
              " 'ourselves',\n",
              " 'you',\n",
              " \"you're\",\n",
              " \"you've\",\n",
              " \"you'll\",\n",
              " \"you'd\",\n",
              " 'your',\n",
              " 'yours',\n",
              " 'yourself',\n",
              " 'yourselves',\n",
              " 'he',\n",
              " 'him',\n",
              " 'his',\n",
              " 'himself',\n",
              " 'she',\n",
              " \"she's\",\n",
              " 'her',\n",
              " 'hers',\n",
              " 'herself',\n",
              " 'it',\n",
              " \"it's\",\n",
              " 'its',\n",
              " 'itself',\n",
              " 'they',\n",
              " 'them',\n",
              " 'their',\n",
              " 'theirs',\n",
              " 'themselves',\n",
              " 'what',\n",
              " 'which',\n",
              " 'who',\n",
              " 'whom',\n",
              " 'this',\n",
              " 'that',\n",
              " \"that'll\",\n",
              " 'these',\n",
              " 'those',\n",
              " 'am',\n",
              " 'is',\n",
              " 'are',\n",
              " 'was',\n",
              " 'were',\n",
              " 'be',\n",
              " 'been',\n",
              " 'being',\n",
              " 'have',\n",
              " 'has',\n",
              " 'had',\n",
              " 'having',\n",
              " 'do',\n",
              " 'does',\n",
              " 'did',\n",
              " 'doing',\n",
              " 'a',\n",
              " 'an',\n",
              " 'the',\n",
              " 'and',\n",
              " 'but',\n",
              " 'if',\n",
              " 'or',\n",
              " 'because',\n",
              " 'as',\n",
              " 'until',\n",
              " 'while',\n",
              " 'of',\n",
              " 'at',\n",
              " 'by',\n",
              " 'for',\n",
              " 'with',\n",
              " 'about',\n",
              " 'against',\n",
              " 'between',\n",
              " 'into',\n",
              " 'through',\n",
              " 'during',\n",
              " 'before',\n",
              " 'after',\n",
              " 'above',\n",
              " 'below',\n",
              " 'to',\n",
              " 'from',\n",
              " 'up',\n",
              " 'down',\n",
              " 'in',\n",
              " 'out',\n",
              " 'on',\n",
              " 'off',\n",
              " 'over',\n",
              " 'under',\n",
              " 'again',\n",
              " 'further',\n",
              " 'then',\n",
              " 'once',\n",
              " 'here',\n",
              " 'there',\n",
              " 'when',\n",
              " 'where',\n",
              " 'why',\n",
              " 'how',\n",
              " 'all',\n",
              " 'any',\n",
              " 'both',\n",
              " 'each',\n",
              " 'few',\n",
              " 'more',\n",
              " 'most',\n",
              " 'other',\n",
              " 'some',\n",
              " 'such',\n",
              " 'no',\n",
              " 'nor',\n",
              " 'not',\n",
              " 'only',\n",
              " 'own',\n",
              " 'same',\n",
              " 'so',\n",
              " 'than',\n",
              " 'too',\n",
              " 'very',\n",
              " 's',\n",
              " 't',\n",
              " 'can',\n",
              " 'will',\n",
              " 'just',\n",
              " 'don',\n",
              " \"don't\",\n",
              " 'should',\n",
              " \"should've\",\n",
              " 'now',\n",
              " 'd',\n",
              " 'll',\n",
              " 'm',\n",
              " 'o',\n",
              " 're',\n",
              " 've',\n",
              " 'y',\n",
              " 'ain',\n",
              " 'aren',\n",
              " \"aren't\",\n",
              " 'couldn',\n",
              " \"couldn't\",\n",
              " 'didn',\n",
              " \"didn't\",\n",
              " 'doesn',\n",
              " \"doesn't\",\n",
              " 'hadn',\n",
              " \"hadn't\",\n",
              " 'hasn',\n",
              " \"hasn't\",\n",
              " 'haven',\n",
              " \"haven't\",\n",
              " 'isn',\n",
              " \"isn't\",\n",
              " 'ma',\n",
              " 'mightn',\n",
              " \"mightn't\",\n",
              " 'mustn',\n",
              " \"mustn't\",\n",
              " 'needn',\n",
              " \"needn't\",\n",
              " 'shan',\n",
              " \"shan't\",\n",
              " 'shouldn',\n",
              " \"shouldn't\",\n",
              " 'wasn',\n",
              " \"wasn't\",\n",
              " 'weren',\n",
              " \"weren't\",\n",
              " 'won',\n",
              " \"won't\",\n",
              " 'wouldn',\n",
              " \"wouldn't\"]"
            ]
          },
          "metadata": {},
          "execution_count": 24
        }
      ]
    },
    {
      "cell_type": "code",
      "source": [
        "for i in corpus:\n",
        "  words = nltk.word_tokenize(i)\n",
        "  for word in words:\n",
        "    if word not in set(stopwords.words('english')):\n",
        "      print(stemmer.stem(word))"
      ],
      "metadata": {
        "colab": {
          "base_uri": "https://localhost:8080/"
        },
        "id": "kUzsFmdSsbhO",
        "outputId": "66ae5c0b-59bf-4d9c-a7c9-f6a28174a320"
      },
      "execution_count": 25,
      "outputs": [
        {
          "output_type": "stream",
          "name": "stdout",
          "text": [
            "spotifi\n",
            "digit\n",
            "music\n",
            "podcast\n",
            "video\n",
            "servic\n",
            "give\n",
            "access\n",
            "million\n",
            "song\n",
            "content\n",
            "creator\n",
            "world\n",
            "basic\n",
            "function\n",
            "play\n",
            "music\n",
            "total\n",
            "free\n",
            "also\n",
            "choos\n",
            "upgrad\n",
            "spotifi\n",
            "premium\n",
            "whether\n",
            "premium\n",
            "get\n",
            "recommend\n",
            "base\n",
            "tast\n",
            "build\n",
            "collect\n",
            "music\n",
            "podcast\n",
            "spotifi\n",
            "avail\n",
            "across\n",
            "rang\n",
            "devic\n",
            "includ\n",
            "comput\n",
            "phone\n",
            "tablet\n",
            "speaker\n",
            "tv\n",
            "car\n",
            "easili\n",
            "transit\n",
            "one\n",
            "anoth\n",
            "spotifi\n",
            "connect\n",
            "keep\n",
            "music\n",
            "spotifi\n",
            "spotifi\n",
            "give\n",
            "access\n",
            "music\n",
            "podcast\n",
            "app\n",
            "licens\n",
            "mean\n",
            "way\n",
            "export\n",
            "content\n",
            "outsid\n",
            "app\n"
          ]
        }
      ]
    },
    {
      "cell_type": "markdown",
      "source": [
        "Lemmatization"
      ],
      "metadata": {
        "id": "7dBIC29huU05"
      }
    },
    {
      "cell_type": "code",
      "source": [
        "for i in corpus:\n",
        "  words = nltk.word_tokenize(i)\n",
        "  for word in words:\n",
        "    if word not in set(stopwords.words('english')):\n",
        "      print(lemmatizer.lemmatize(word))"
      ],
      "metadata": {
        "colab": {
          "base_uri": "https://localhost:8080/"
        },
        "id": "bp27mtKNtdkx",
        "outputId": "6b5a4b62-d71f-4c97-f326-751da728ea01"
      },
      "execution_count": 26,
      "outputs": [
        {
          "output_type": "stream",
          "name": "stdout",
          "text": [
            "spotify\n",
            "digital\n",
            "music\n",
            "podcast\n",
            "video\n",
            "service\n",
            "give\n",
            "access\n",
            "million\n",
            "song\n",
            "content\n",
            "creator\n",
            "world\n",
            "basic\n",
            "function\n",
            "playing\n",
            "music\n",
            "totally\n",
            "free\n",
            "also\n",
            "choose\n",
            "upgrade\n",
            "spotify\n",
            "premium\n",
            "whether\n",
            "premium\n",
            "get\n",
            "recommendation\n",
            "based\n",
            "taste\n",
            "build\n",
            "collection\n",
            "music\n",
            "podcasts\n",
            "spotify\n",
            "available\n",
            "across\n",
            "range\n",
            "device\n",
            "including\n",
            "computer\n",
            "phone\n",
            "tablet\n",
            "speaker\n",
            "tv\n",
            "car\n",
            "easily\n",
            "transition\n",
            "one\n",
            "another\n",
            "spotify\n",
            "connect\n",
            "keep\n",
            "music\n",
            "spotify\n",
            "spotify\n",
            "give\n",
            "access\n",
            "music\n",
            "podcasts\n",
            "apps\n",
            "licensing\n",
            "mean\n",
            "way\n",
            "export\n",
            "content\n",
            "outside\n",
            "app\n"
          ]
        }
      ]
    },
    {
      "cell_type": "markdown",
      "source": [
        "Apply stopwords, Lemmatize"
      ],
      "metadata": {
        "id": "2SeZRqG9QuPr"
      }
    },
    {
      "cell_type": "code",
      "source": [
        "import re #regular expression\n",
        "corpus=[]\n",
        "for i in range(len(Sentences)):\n",
        "  review= re.sub('[^a-zA-Z]',' ',Sentences[i])\n",
        "  review = review.lower()\n",
        "  review = review.split()\n",
        "  review = [lemmatizer.lemmatize(word) for word in review if not word in set(stopwords.words('english'))]\n",
        "  review = ' '.join(review)\n",
        "  corpus.append(review)\n"
      ],
      "metadata": {
        "id": "BNm32ZHwQj89"
      },
      "execution_count": 37,
      "outputs": []
    },
    {
      "cell_type": "markdown",
      "source": [
        "Bag of Words"
      ],
      "metadata": {
        "id": "WDu0NkGRulzo"
      }
    },
    {
      "cell_type": "code",
      "source": [
        "from sklearn.feature_extraction.text import CountVectorizer\n",
        "cv = CountVectorizer(binary=True, ngram_range=(3,3))"
      ],
      "metadata": {
        "id": "B3C90UkSuhvg"
      },
      "execution_count": 43,
      "outputs": []
    },
    {
      "cell_type": "code",
      "source": [
        "X=cv.fit_transform(corpus)\n",
        "X"
      ],
      "metadata": {
        "colab": {
          "base_uri": "https://localhost:8080/"
        },
        "id": "OcjB04Vru8pv",
        "outputId": "b545bde0-914a-4416-ee72-986a00f28991"
      },
      "execution_count": 44,
      "outputs": [
        {
          "output_type": "execute_result",
          "data": {
            "text/plain": [
              "<9x50 sparse matrix of type '<class 'numpy.int64'>'\n",
              "\twith 50 stored elements in Compressed Sparse Row format>"
            ]
          },
          "metadata": {},
          "execution_count": 44
        }
      ]
    },
    {
      "cell_type": "code",
      "source": [
        "cv.vocabulary_"
      ],
      "metadata": {
        "colab": {
          "base_uri": "https://localhost:8080/"
        },
        "id": "4UszFhOIvGLX",
        "outputId": "0142d54d-1ae6-401f-8a54-a475506ba49d"
      },
      "execution_count": 45,
      "outputs": [
        {
          "output_type": "execute_result",
          "data": {
            "text/plain": [
              "{'spotify digital music': 41,\n",
              " 'digital music podcast': 15,\n",
              " 'music podcast video': 28,\n",
              " 'podcast video service': 34,\n",
              " 'video service give': 48,\n",
              " 'service give access': 37,\n",
              " 'give access million': 21,\n",
              " 'access million song': 0,\n",
              " 'million song content': 27,\n",
              " 'song content creator': 38,\n",
              " 'content creator world': 12,\n",
              " 'basic function playing': 6,\n",
              " 'function playing music': 19,\n",
              " 'playing music totally': 33,\n",
              " 'music totally free': 30,\n",
              " 'totally free also': 44,\n",
              " 'free also choose': 18,\n",
              " 'also choose upgrade': 3,\n",
              " 'choose upgrade spotify': 9,\n",
              " 'upgrade spotify premium': 47,\n",
              " 'get recommendation based': 20,\n",
              " 'recommendation based taste': 36,\n",
              " 'build collection music': 7,\n",
              " 'collection music podcasts': 10,\n",
              " 'spotify available across': 40,\n",
              " 'available across range': 5,\n",
              " 'across range device': 2,\n",
              " 'range device including': 35,\n",
              " 'device including computer': 14,\n",
              " 'including computer phone': 23,\n",
              " 'computer phone tablet': 11,\n",
              " 'phone tablet speaker': 32,\n",
              " 'tablet speaker tv': 43,\n",
              " 'speaker tv car': 39,\n",
              " 'tv car easily': 46,\n",
              " 'car easily transition': 8,\n",
              " 'easily transition one': 16,\n",
              " 'transition one another': 45,\n",
              " 'one another spotify': 31,\n",
              " 'another spotify connect': 4,\n",
              " 'keep music spotify': 24,\n",
              " 'spotify give access': 42,\n",
              " 'give access music': 22,\n",
              " 'access music podcasts': 1,\n",
              " 'music podcasts apps': 29,\n",
              " 'licensing mean way': 25,\n",
              " 'mean way export': 26,\n",
              " 'way export content': 49,\n",
              " 'export content outside': 17,\n",
              " 'content outside app': 13}"
            ]
          },
          "metadata": {},
          "execution_count": 45
        }
      ]
    },
    {
      "cell_type": "code",
      "source": [
        "corpus[0]"
      ],
      "metadata": {
        "colab": {
          "base_uri": "https://localhost:8080/",
          "height": 53
        },
        "id": "blVLWi3Jva4o",
        "outputId": "a35c6153-280f-4e72-efea-b0b84454d1d8"
      },
      "execution_count": 46,
      "outputs": [
        {
          "output_type": "execute_result",
          "data": {
            "text/plain": [
              "'spotify digital music podcast video service give access million song content creator world'"
            ],
            "application/vnd.google.colaboratory.intrinsic+json": {
              "type": "string"
            }
          },
          "metadata": {},
          "execution_count": 46
        }
      ]
    },
    {
      "cell_type": "code",
      "source": [
        "X[0].toarray()"
      ],
      "metadata": {
        "colab": {
          "base_uri": "https://localhost:8080/"
        },
        "id": "VaId2KQhvdLZ",
        "outputId": "a02fdceb-a4a7-4f4f-baad-ce3898b611b5"
      },
      "execution_count": 47,
      "outputs": [
        {
          "output_type": "execute_result",
          "data": {
            "text/plain": [
              "array([[1, 0, 0, 0, 0, 0, 0, 0, 0, 0, 0, 0, 1, 0, 0, 1, 0, 0, 0, 0, 0, 1,\n",
              "        0, 0, 0, 0, 0, 1, 1, 0, 0, 0, 0, 0, 1, 0, 0, 1, 1, 0, 0, 1, 0, 0,\n",
              "        0, 0, 0, 0, 1, 0]])"
            ]
          },
          "metadata": {},
          "execution_count": 47
        }
      ]
    },
    {
      "cell_type": "markdown",
      "source": [
        "TF-IDF (Term Frequency - Inverse Dcoument Frequency)"
      ],
      "metadata": {
        "id": "kVmgd7aJV8Vu"
      }
    },
    {
      "cell_type": "markdown",
      "source": [
        "![image.png](data:image/png;base64,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)"
      ],
      "metadata": {
        "id": "5Kg6oGSNWPRW"
      }
    },
    {
      "cell_type": "code",
      "source": [
        "from sklearn.feature_extraction.text import TfidfVectorizer\n",
        "cv = TfidfVectorizer(ngram_range=(1,1), max_features=3) #can reduce no. of features\n",
        "X = cv.fit_transform(corpus)"
      ],
      "metadata": {
        "id": "JLg74A6xvjbH"
      },
      "execution_count": 65,
      "outputs": []
    },
    {
      "cell_type": "code",
      "source": [
        "corpus[0]"
      ],
      "metadata": {
        "colab": {
          "base_uri": "https://localhost:8080/",
          "height": 53
        },
        "id": "t0IKhdO3Wpj7",
        "outputId": "d4ac87e1-845e-48fb-d18f-caaebb79ea67"
      },
      "execution_count": 66,
      "outputs": [
        {
          "output_type": "execute_result",
          "data": {
            "text/plain": [
              "'spotify digital music podcast video service give access million song content creator world'"
            ],
            "application/vnd.google.colaboratory.intrinsic+json": {
              "type": "string"
            }
          },
          "metadata": {},
          "execution_count": 66
        }
      ]
    },
    {
      "cell_type": "code",
      "source": [
        "X[0].toarray()"
      ],
      "metadata": {
        "colab": {
          "base_uri": "https://localhost:8080/"
        },
        "id": "i-tm8hsgWriR",
        "outputId": "aaafebdd-063f-4c5e-a118-e5f40af0822d"
      },
      "execution_count": 67,
      "outputs": [
        {
          "output_type": "execute_result",
          "data": {
            "text/plain": [
              "array([[0.71799085, 0.49218347, 0.49218347]])"
            ]
          },
          "metadata": {},
          "execution_count": 67
        }
      ]
    },
    {
      "cell_type": "code",
      "source": [],
      "metadata": {
        "id": "g3ZQ09KyWw58"
      },
      "execution_count": null,
      "outputs": []
    }
  ]
}